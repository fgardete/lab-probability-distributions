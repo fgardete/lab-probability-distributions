{
 "cells": [
  {
   "cell_type": "markdown",
   "metadata": {},
   "source": [
    "# Before your start:\n",
    "\n",
    "    Read the README.md file\n",
    "    Comment as much as you can and use the resources (README.md file)\n",
    "    Happy learning!\n",
    "\n",
    "*Notes:* \n",
    "\n",
    "- Solve the questions with python.\n",
    "\n",
    "- Round the final answer to three decimal places."
   ]
  },
  {
   "cell_type": "markdown",
   "metadata": {},
   "source": [
    "## Bernoulli's Distribution\n",
    "\n",
    "In a basket containing 100 fruits, there are 60 apples and 40 oranges. \n",
    "\n",
    "A fruit is picked randomly from the basket. \n",
    "\n",
    "1. **What is the probability that the fruit is apple?**\n",
    "1. **What is the probability that it is an orange?**"
   ]
  },
  {
   "cell_type": "code",
   "execution_count": 10,
   "metadata": {},
   "outputs": [],
   "source": [
    "\"\"\"\n",
    "Calculate:\n",
    "p = probability that the fruit is an apple \n",
    "q = probability that the fruit is an orange\n",
    "\"\"\"\n",
    "\n",
    "# your code here\n",
    "Total = 100\n",
    "\n",
    "p= 60/100\n",
    "q= 40/100\n"
   ]
  },
  {
   "cell_type": "markdown",
   "metadata": {},
   "source": [
    "Now we take a random sample of 20 fruits from the basket. After each fruit is taken, a new fruit of the same type is replaced in the basket. Therefore, every time we are taking 1 fruit from 100 fruits. \n",
    "\n",
    "1. **What is the probability that the first 5 fruits are all apples?**\n",
    "\n",
    "1. **What is the probability that the first 5 fruits are all apples and the next 15 fruits are all oranges?**\n",
    "\n",
    "You can include the `p` and `q` probabilities you previous calculated in your solution."
   ]
  },
  {
   "cell_type": "code",
   "execution_count": 11,
   "metadata": {},
   "outputs": [
    {
     "name": "stdout",
     "output_type": "stream",
     "text": [
      "0.07775999999999998\n",
      "8.349416423424006e-08\n"
     ]
    }
   ],
   "source": [
    "# your code here\n",
    "prob_first_5_fruits_are_all_apples= p**5\n",
    "print(prob_first_5_fruits_are_all_apples)\n",
    "\n",
    "prob_first_5_fruits_are_all_apples_and_the_next_15_fruits_are_all_oranges = p**5 * q**15\n",
    "print(prob_first_5_fruits_are_all_apples_and_the_next_15_fruits_are_all_oranges )"
   ]
  },
  {
   "cell_type": "markdown",
   "metadata": {},
   "source": [
    "## Binomial Distribution\n",
    "\n",
    "Similar to the above problem, this time again we randomly sample 20 fruits.\n",
    "\n",
    "**What is the probability that this time the sample contains 5 apples and 15 oranges?**\n",
    "\n",
    "Please note that this time the order of the fruits being picked does not matter."
   ]
  },
  {
   "cell_type": "code",
   "execution_count": 12,
   "metadata": {},
   "outputs": [
    {
     "name": "stdout",
     "output_type": "stream",
     "text": [
      "0.0012944935222876511\n"
     ]
    }
   ],
   "source": [
    "# your code here\n",
    "from scipy import stats\n",
    "from scipy.stats import binom\n",
    "n = 20\n",
    "p = 0.6\n",
    "\n",
    "binomial = binom(n,p)\n",
    "\n",
    "prob_sample_contains_5_apples_and_15_oranges = binomial.pmf(5)\n",
    "print(prob_sample_contains_5_apples_and_15_oranges)"
   ]
  },
  {
   "cell_type": "markdown",
   "metadata": {},
   "source": [
    "In the lesson we also discussed CDF (cumulative distribution function). In the context of the above problem, **what is the probability that less than 5 fruits picked are apples?**\n",
    "\n",
    "Write the formula and calculate the probability below."
   ]
  },
  {
   "cell_type": "code",
   "execution_count": 13,
   "metadata": {},
   "outputs": [
    {
     "data": {
      "text/plain": [
       "0.0003170311211686301"
      ]
     },
     "execution_count": 13,
     "metadata": {},
     "output_type": "execute_result"
    }
   ],
   "source": [
    "# your code here\n",
    "binomial.cdf(4)"
   ]
  },
  {
   "cell_type": "markdown",
   "metadata": {},
   "source": [
    "**Plot the PDF (probability distributiom function) for the above binomial distribution.**\n",
    "\n",
    "*Hint: The range of x in a binomial distribution is from `0` to `n`.*"
   ]
  },
  {
   "cell_type": "code",
   "execution_count": 14,
   "metadata": {},
   "outputs": [
    {
     "data": {
      "image/png": "[encoded data removed]",
      "text/plain": [
       "<Figure size 432x288 with 1 Axes>"
      ]
     },
     "metadata": {
      "needs_background": "light"
     },
     "output_type": "display_data"
    },
    {
     "data": {
      "image/png": "[encoded data removed]",
      "text/plain": [
       "<Figure size 432x288 with 1 Axes>"
      ]
     },
     "metadata": {
      "needs_background": "light"
     },
     "output_type": "display_data"
    }
   ],
   "source": [
    "# your code here\n",
    "# Please label the axes and give a title to the plot\n",
    "\n",
    "from scipy.stats import binom\n",
    "import matplotlib.pyplot as plt\n",
    "\n",
    "n = 20\n",
    "p = 0.6\n",
    "\n",
    "#--------------------------------------------------------------------\n",
    "\n",
    "r_values = list(range(20+1))\n",
    "\n",
    "dist1 = [binom.pmf(r, n, p) for r in r_values ]\n",
    "\n",
    "# plotting the graph \n",
    "plt.bar(r_values, dist1)\n",
    "plt.ylabel(\"pmf of fruitd picked\")\n",
    "plt.xlabel(\"Number of fruits picked\")\n",
    "plt.title('Binomial Distribution (mass function)')\n",
    "\n",
    "plt.show()\n",
    "\n",
    "#---------------------------------------------------------------------\n",
    "r_values = list(range(20+1))\n",
    "# list of pmf values\n",
    "dist1 = [binom.cdf(r, n, p) for r in r_values ]\n",
    "# plotting the graph \n",
    "plt.bar(r_values, dist1)\n",
    "\n",
    "plt.ylabel(\"cdf of fruitd picked\")\n",
    "plt.xlabel(\"Number of fruits picked\")\n",
    "plt.title('Binomial Distribution (cumulative function)')\n",
    "\n",
    "plt.show()\n",
    "\n",
    "#https://www.geeksforgeeks.org/python-binomial-distribution/"
   ]
  },
  {
   "cell_type": "markdown",
   "metadata": {},
   "source": [
    "## Poisson Distribution\n",
    "\n",
    "In this challenge you are required to use the Math library in python to solve the problems.\n",
    "\n",
    "In the UEFA champions league tournament, the average number of goals scored in a match is 2.3. \n",
    "\n",
    "**What is the probability that the number of goals scored in a match is 5?**\n",
    "\n",
    "*Hint: Use the exp() in the math library*\n",
    "\n",
    "And to calculate the factorial, you can use the following code:\n",
    "\n",
    "```python\n",
    "import math\n",
    "math.factorial(n) # n is the number you want to find the factorial of\n",
    "```"
   ]
  },
  {
   "cell_type": "code",
   "execution_count": 15,
   "metadata": {},
   "outputs": [
    {
     "data": {
      "text/plain": [
       "0.053775025581946814"
      ]
     },
     "execution_count": 15,
     "metadata": {},
     "output_type": "execute_result"
    }
   ],
   "source": [
    "# your code here\n",
    "\n",
    "from scipy.stats import poisson\n",
    "\n",
    "# your code here\n",
    "mu = 2.3\n",
    "poisson_dist = poisson(mu)\n",
    "\n",
    "poisson_dist.pmf(5)"
   ]
  },
  {
   "cell_type": "markdown",
   "metadata": {},
   "source": [
    "**Draw a poisson probability distribution plot for the number of goals to be between 0 to 10.**"
   ]
  },
  {
   "cell_type": "code",
   "execution_count": 16,
   "metadata": {},
   "outputs": [
    {
     "name": "stdout",
     "output_type": "stream",
     "text": [
      "0.10025884372280375\n",
      "0.23059534056244857\n",
      "0.2651846416468159\n",
      "0.20330822526255884\n",
      "0.11690222952597128\n",
      "0.053775025581946814\n",
      "0.020613759806412932\n",
      "0.00677309250782139\n",
      "0.0019472640959986487\n",
      "0.0004976341578663217\n",
      "0.00011445585630925406\n"
     ]
    }
   ],
   "source": [
    "# your code here\n",
    "print(poisson_dist.pmf(0))\n",
    "print(poisson_dist.pmf(1))\n",
    "print(poisson_dist.pmf(2))\n",
    "print(poisson_dist.pmf(3))\n",
    "print(poisson_dist.pmf(4))\n",
    "print(poisson_dist.pmf(5))\n",
    "print(poisson_dist.pmf(6))\n",
    "print(poisson_dist.pmf(7))\n",
    "print(poisson_dist.pmf(8))\n",
    "print(poisson_dist.pmf(9))\n",
    "print(poisson_dist.pmf(10))"
   ]
  },
  {
   "cell_type": "code",
   "execution_count": 20,
   "metadata": {},
   "outputs": [
    {
     "data": {
      "image/png": "[encoded data removed]",
      "text/plain": [
       "<Figure size 432x288 with 1 Axes>"
      ]
     },
     "metadata": {
      "needs_background": "light"
     },
     "output_type": "display_data"
    }
   ],
   "source": [
    "import numpy as np\n",
    "# your code here\n",
    "x = np.arange(0,11)\n",
    "plt.plot(x, poisson_dist.pmf(x),\"*\")\n",
    "\n",
    "# Please label the axes and give a title to the plot \n",
    "plt.ylabel(\"pmf of goals scored\")\n",
    "plt.xlabel(\"Number of goals\")\n",
    "plt.title('Poisson Distribution Goals')\n",
    "plt.show()"
   ]
  },
  {
   "cell_type": "code",
   "execution_count": null,
   "metadata": {},
   "outputs": [],
   "source": []
  },
  {
   "cell_type": "code",
   "execution_count": null,
   "metadata": {},
   "outputs": [],
   "source": []
  }
 ],
 "metadata": {
  "kernelspec": {
   "display_name": "Python 3",
   "language": "python",
   "name": "python3"
  },
  "language_info": {
   "codemirror_mode": {
    "name": "ipython",
    "version": 3
   },
   "file_extension": ".py",
   "mimetype": "text/x-python",
   "name": "python",
   "nbconvert_exporter": "python",
   "pygments_lexer": "ipython3",
   "version": "3.8.8"
  }
 },
 "nbformat": 4,
 "nbformat_minor": 2
}
